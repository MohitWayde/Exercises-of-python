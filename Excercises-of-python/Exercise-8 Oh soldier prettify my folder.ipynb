{
 "cells": [
  {
   "cell_type": "markdown",
   "metadata": {},
   "source": [
    "# Oh Soldier, Prettify My Folder"
   ]
  },
  {
   "cell_type": "code",
   "execution_count": 46,
   "metadata": {},
   "outputs": [],
   "source": [
    "# Exercise-8 soldier prettify my folder\n",
    "# write decs here\n",
    "\n",
    "# use capitalize() to capital first alpha of folder\n",
    "\n",
    "import os\n",
    "filelist = os.listdir()\n",
    "def soldier(workpath, except_file,except_format):\n",
    "    i = 1\n",
    "    os.chdir(workpath)\n",
    "    with open(\"mw.txt\") as f1:\n",
    "        contentt = f1.read()\n",
    "        lis_con = contentt.split('\\n')\n",
    "    for filess in filelist:\n",
    "        if filess not in lis_con:\n",
    "            os.rename(filess, filess.capitalize())\n",
    "            \n",
    "        if os.path.splitext(filess)[1] == except_format:\n",
    "            os.rename(filess, f\"{i}{except_format}\")\n",
    "            i+=1\n",
    "                \n",
    "            \n",
    "        \n",
    "soldier(\"E:\\\\internship ML\\\\Practice\\\\Exercises_of_python\\\\action dir\\\\\", \"mw.txt\",\".png\")\n",
    "# print(filelist)"
   ]
  },
  {
   "cell_type": "code",
   "execution_count": 6,
   "metadata": {},
   "outputs": [
    {
     "data": {
      "text/plain": [
       "13"
      ]
     },
     "execution_count": 6,
     "metadata": {},
     "output_type": "execute_result"
    }
   ],
   "source": [
    "# lenfiles = len(lis_con)\n",
    "#     for i in range(lenfiles):\n",
    "#     stri = str(i)\n",
    "#     os.rename((os.path.join(filess)), (os.path.join(stri)))\n",
    "#                 "
   ]
  }
 ],
 "metadata": {
  "kernelspec": {
   "display_name": "Python 3",
   "language": "python",
   "name": "python3"
  },
  "language_info": {
   "codemirror_mode": {
    "name": "ipython",
    "version": 3
   },
   "file_extension": ".py",
   "mimetype": "text/x-python",
   "name": "python",
   "nbconvert_exporter": "python",
   "pygments_lexer": "ipython3",
   "version": "3.8.3"
  }
 },
 "nbformat": 4,
 "nbformat_minor": 4
}
