{
 "cells": [
  {
   "cell_type": "code",
   "execution_count": null,
   "metadata": {},
   "outputs": [],
   "source": [
    "import requests\n",
    "import json\n",
    "from win32com.client import Dispatch\n",
    "def speak(str):\n",
    "    speak = Dispatch(\"SAPI.SpVoice\")\n",
    "    speak.Speak(str)\n",
    "\n",
    "\n",
    "url  = \"http://newsapi.org/v2/top-headlines?country=in&apiKey=b2da6be3aef2442aa6c1b8fe70b34f44\"\n",
    "r = requests.get(url).text\n",
    "json_data = json.loads(r)\n",
    "arts = json_data[\"articles\"]\n",
    "\n",
    "for a in arts:\n",
    "    print(a['title'])\n",
    "    speak(a['title'])\n",
    "    speak(\"moving on to the next news\")\n",
    "speak(\"Thank you for listening\")"
   ]
  }
 ],
 "metadata": {
  "kernelspec": {
   "display_name": "Python 3",
   "language": "python",
   "name": "python3"
  },
  "language_info": {
   "codemirror_mode": {
    "name": "ipython",
    "version": 3
   },
   "file_extension": ".py",
   "mimetype": "text/x-python",
   "name": "python",
   "nbconvert_exporter": "python",
   "pygments_lexer": "ipython3",
   "version": "3.8.3"
  }
 },
 "nbformat": 4,
 "nbformat_minor": 4
}
