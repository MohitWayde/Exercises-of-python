# # exercise 4
# # pattern printing
# # 12-10-2020
# n=int(input("enter the row number :"))
# b=input("True/1 for 1 to n and False/0 for n to 1 :")
# if b == '1':
#     print("if")
#     for i in range(n):
#         for j in range(0,i+1):
#             print("*",end="")
#         print("\r")
# elif b == '0':
#     print("elif")
#     for i in range(n,-1,-1):
#         for j in range(0,i):
#             print("*",end="")
#         print("\r")
# else:
#     print("give valid input")
    
# Pattern printing
n=int(input("enter the row number :"))
count=0
while count<=n:
    print("*" * count,end="")
    print("\n")
    count=count+1

# else:
#     if b == 0:
#         count=n
#         while count!=0:
#             print("*" * count,end="")
#             print("\n")
#             count=count-1
#             continue
