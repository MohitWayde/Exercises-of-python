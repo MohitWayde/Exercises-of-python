# EXERCISE 5
# 14-10-2020 to 16-10-2020
# health management system
# enter name of client
# what you want diet or exercises
# total 6 files for 3 names for food and exercise respectively
# write and retrieve
def getdate():
    import datetime
    return datetime.datetime.now()
    
def write_data():
    name_of_client = input("Enter the name of client :")
    which_operation = input("Type \"diet\" for diet OR Type \"exercise\" for exercise") 
    if name_of_client=="mohit" and which_operation=="diet":
        with open("mohit_diet.txt","r+") as f1:
            input_diet1=input("enter the diet:")
            f1.write(str([str(getdate())]) + " : " + input_diet1 + "\n")
            content_diet1=f1.readlines()
            for line in content_diet1:
                print(line)
            print("wrote and saved successfully")
                
    elif name_of_client=="mohit" and which_operation=="exercise":
        with open("mohit_exercise.txt","r+") as f2:
            input_diet2=input("enter the exercise :")
            f2.write(str([str(getdate())]) + " : " + input_diet2 + "\n")
            content_diet2=f2.readlines()
            for line in content_diet2:
                print(line)
            print("wrote and saved successfully")
            
    elif name_of_client=="omi" and which_operation=="diet":
        with open("omi_diet.txt","r+") as f3:
            input_diet3=input("enter the diet :")
            f3.write(str([str(getdate())]) + " : " + input_diet3 + "\n")
            content_diet3=f3.readlines()
            for line in content_diet3:
                print(line)
            print("wrote and saved successfully")
            
    elif name_of_client=="omi" and which_operation=="exercise":
        with open("omi_exercise.txt","r+") as f4:
            input_diet4=input("enter the exercise :")
            f4.write(str([str(getdate())]) + " : " + input_diet4 + "\n")
            content_diet4=f4.readlines()
            for line in content_diet4:
                print(line)
            print("wrote and saved successfully")
          
    elif name_of_client=="faiz" and which_operation=="diet":
        with open("faiz_diet.txt","r+") as f5:
            input_diet5=input("enter the diet :")
            f5.write(str([str(getdate())]) + " : " + input_diet5 + "\n")
            content_diet5=f5.readlines()
            for line in content_diet5:
                print(line)
            print("wrote and saved successfully")
            
    elif name_of_client=="faiz" and which_operation=="exercise":
        with open("faiz_exercise.txt","r+") as f6:
            input_diet6=input("enter the exercise :")
            f6.write(str([str(getdate())]) + " : " + input_diet6 + "\n")
            content_diet6=f6.readlines()
            for line in content_diet6:
                print(line)
            print("wrote and saved successfully")
            
    else:
        print("This option not in the program !")


def read_data():
    name_of_client = input("Enter the name of client :")
    which_operation = input("Type \"diet\" for diet OR Type \"exercise\" for exercise") 
    
    if name_of_client=="mohit" and which_operation=="diet":
        with open("mohit_diet.txt") as f11:
            content1=f11.read()
            print(content1)

    elif name_of_client=="mohit" and which_operation=="exercise":
        with open("mohit_exercise.txt") as f12:
            content2=f12.read()
            print(content2)
            
    elif name_of_client=="omi" and which_operation=="diet":
        with open("omi_diet.txt") as f13:
            content1=f13.read()
            print(content3)
            
    elif name_of_client=="omi" and which_operation=="exercise":
        with open("omi_exercise.txt") as f14:
            content4=f14.read()
            print(content4)
            
    elif name_of_client=="faiz" and which_operation=="diet":
        with open("faiz_diet.txt") as f15:
            content5=f15.read()
            print(content5)
            
    elif name_of_client=="faiz" and which_operation=="exercise":
        with open("faiz_exercise.txt") as f16:
            content6=f16.read()
            print(content6)
    else:
        print("This option not in the program !")

operation=str(input("Type \"write\" to write the data OR \"read\" to retrieve the data?"))

if operation=='read':
    print("read_data")
    read_data()
elif operation=='write':
    print("write_data")
    write_data()
else:
    print("You entered something else other than read or write!")
 
   
