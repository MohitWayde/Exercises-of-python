# exercise of dictionary
# Exercise 1
meanings={"abandon":"leave", 
         "mutable":"can change", 
         "immutable":"cannot change"}
dictionary=(input("enter the word :"))
print(meanings[dictionary])