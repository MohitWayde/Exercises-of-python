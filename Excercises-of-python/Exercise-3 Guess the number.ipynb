# 6-10-2020
#guess the number
# Exercise 3
hide_num=18
guess_count=9
chances=0
while(guess_count!=chances):
    a=int(input("enter the guessed number :"))
    if(a<hide_num):
        print("the number you entered is lesser than hidden one")
        print("try again!")
        guess_count=guess_count-1
        print(str(guess_count)," chances left")
        continue
    elif(a==hide_num):
        print("you have found the number!!")
        print("the guesses you take are ",str(guess_count))
        break
    elif(a>hide_num):
        print("the number you entered is greater than hidden one")
        print("try again!")
        guess_count=guess_count-1
        print(str(guess_count)," chances left")
        continue
    else:
        print("something went wrong!")
        break
else:
    print("chance over, game over")
    
    
    