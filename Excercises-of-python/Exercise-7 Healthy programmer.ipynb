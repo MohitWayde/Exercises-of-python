{
 "cells": [
  {
   "cell_type": "markdown",
   "metadata": {},
   "source": [
    "# Exercise 7"
   ]
  },
  {
   "cell_type": "code",
   "execution_count": null,
   "metadata": {},
   "outputs": [
    {
     "name": "stdout",
     "output_type": "stream",
     "text": [
      "pygame 2.0.0 (SDL 2.0.12, python 3.8.3)\n",
      "Hello from the pygame community. https://www.pygame.org/contribute.html\n",
      "schedule started\n",
      "edone\n",
      "pdone\n",
      "wdone\n",
      "edone\n"
     ]
    }
   ],
   "source": [
    "# For final scheduler\n",
    "# water_seconds = 3600\n",
    "# eyes_seconds = 1800\n",
    "# exercise_seconds = 2700\n",
    "import datetime\n",
    "import time\n",
    "from pygame import mixer\n",
    "# Global declaration\n",
    "water = 3600 # 1hour\n",
    "eyes = 1800 # 30 mins\n",
    "exercise = 2700 # 45mins\n",
    "# Functions\n",
    "def musicforsch(file, stopper_msg): \n",
    "    mixer.init()\n",
    "    mixer.music.load(file)\n",
    "    mixer.music.play()\n",
    "    while True:\n",
    "        stop_music_text = input()\n",
    "        if stop_music_text == stopper_msg:\n",
    "            mixer.music.stop()\n",
    "            break\n",
    "            \n",
    "try:\n",
    "    def logfile(msg):\n",
    "        with open(\"schedulerlog.txt\",\"a\") as f1:\n",
    "            mytime = time.strftime(\"%H\"\":\"\"%M\")\n",
    "            f1.write(f\"{msg}  {mytime} : DATE & TIME {datetime.datetime.now()} \\n\")\n",
    "except Exception as e:\n",
    "    print(e)\n",
    "\n",
    "\n",
    "\n",
    "def scheduler_app():\n",
    "    \n",
    "        print(\"schedule started\")\n",
    "        init_water = time.time()\n",
    "        init_eyes = time.time()\n",
    "        init_exercise = time.time()\n",
    "#         print(\"For WATER, I will remind you after every 1 hour\")\n",
    "#         print(\"For EYES , I will remind you after every 30 minutes\")\n",
    "#         print(\"For BODY MOVEMENT, I will remind you after every 45 minutes\")\n",
    "        while True:\n",
    "            if  time.time()-init_water > water:\n",
    "                musicforsch(\"Besabriyaan.mp3\", \"wdone\")\n",
    "                logfile(\"Drank water at :\")\n",
    "                init_water = time.time()\n",
    "            if  time.time()-init_eyes > eyes:\n",
    "                musicforsch(\"Ik_Vaari_Aa.mp3\", \"edone\")\n",
    "                logfile(\"Eyes exercise at \")\n",
    "                init_eyes = time.time()\n",
    "            if  time.time()-init_exercise > exercise:\n",
    "                musicforsch(\"Hall-of-fame.mp3\", \"pdone\")\n",
    "                logfile(\"Physical movement at \")\n",
    "                init_exercise = time.time()\n",
    "\n",
    "\n",
    "\n",
    "scheduler_app()"
   ]
  },
  {
   "cell_type": "code",
   "execution_count": null,
   "metadata": {},
   "outputs": [],
   "source": [
    "# import time\n",
    "# import webbrowser\n",
    "\n",
    "# total_breaks = 3\n",
    "# break_count = 0\n",
    "\n",
    "# while(break_count < total_breaks):\n",
    "#     time.sleep(10)\n",
    "#     webbrowser.open(\"https://www.youtube.com/watch?v=AJY70JDIZIk\")\n",
    "#     break_count = break_count + 1"
   ]
  },
  {
   "cell_type": "code",
   "execution_count": 1,
   "metadata": {},
   "outputs": [
    {
     "output_type": "stream",
     "name": "stdout",
     "text": [
      "pygame 2.0.0 (SDL 2.0.12, python 3.9.1)\nHello from the pygame community. https://www.pygame.org/contribute.html\n"
     ]
    },
    {
     "output_type": "error",
     "ename": "error",
     "evalue": "Failed loading libmpg123-0.dll: က",
     "traceback": [
      "\u001b[1;31m---------------------------------------------------------------------------\u001b[0m",
      "\u001b[1;31merror\u001b[0m                                     Traceback (most recent call last)",
      "\u001b[1;32m<ipython-input-1-f9c6bea2e61f>\u001b[0m in \u001b[0;36m<module>\u001b[1;34m\u001b[0m\n\u001b[0;32m      1\u001b[0m \u001b[1;32mfrom\u001b[0m \u001b[0mpygame\u001b[0m \u001b[1;32mimport\u001b[0m \u001b[0mmixer\u001b[0m\u001b[1;33m\u001b[0m\u001b[1;33m\u001b[0m\u001b[0m\n\u001b[0;32m      2\u001b[0m \u001b[0mmixer\u001b[0m\u001b[1;33m.\u001b[0m\u001b[0minit\u001b[0m\u001b[1;33m(\u001b[0m\u001b[1;33m)\u001b[0m\u001b[1;33m\u001b[0m\u001b[1;33m\u001b[0m\u001b[0m\n\u001b[1;32m----> 3\u001b[1;33m \u001b[0mmixer\u001b[0m\u001b[1;33m.\u001b[0m\u001b[0mmusic\u001b[0m\u001b[1;33m.\u001b[0m\u001b[0mload\u001b[0m\u001b[1;33m(\u001b[0m\u001b[1;34m\"Besabriyaan.mp3\"\u001b[0m\u001b[1;33m)\u001b[0m\u001b[1;33m\u001b[0m\u001b[1;33m\u001b[0m\u001b[0m\n\u001b[0m\u001b[0;32m      4\u001b[0m \u001b[0mmixer\u001b[0m\u001b[1;33m.\u001b[0m\u001b[0mmusic\u001b[0m\u001b[1;33m.\u001b[0m\u001b[0mset_volume\u001b[0m\u001b[1;33m(\u001b[0m\u001b[1;36m0.1\u001b[0m\u001b[1;33m)\u001b[0m\u001b[1;33m\u001b[0m\u001b[1;33m\u001b[0m\u001b[0m\n\u001b[0;32m      5\u001b[0m \u001b[0mmixer\u001b[0m\u001b[1;33m.\u001b[0m\u001b[0mmusic\u001b[0m\u001b[1;33m.\u001b[0m\u001b[0mplay\u001b[0m\u001b[1;33m(\u001b[0m\u001b[1;33m)\u001b[0m\u001b[1;33m\u001b[0m\u001b[1;33m\u001b[0m\u001b[0m\n",
      "\u001b[1;31merror\u001b[0m: Failed loading libmpg123-0.dll: က"
     ]
    }
   ],
   "source": [
    "from pygame import mixer\n",
    "mixer.init()\n",
    "mixer.music.load(\"Besabriyaan.mp3\")\n",
    "mixer.music.set_volume(0.1)\n",
    "mixer.music.play()"
   ]
  },
  {
   "cell_type": "code",
   "execution_count": 2,
   "metadata": {},
   "outputs": [],
   "source": [
    "#pip install playsound\r\n",
    "from playsound import playsound\r\n",
    "playsound('Besabriyaan.mp3')"
   ]
  },
  {
   "cell_type": "code",
   "execution_count": null,
   "metadata": {},
   "outputs": [],
   "source": [
    "from stopsound import stopsound\n",
    "stopsound()"
   ]
  },
  {
   "cell_type": "code",
   "execution_count": 3,
   "metadata": {},
   "outputs": [],
   "source": [
    "import multiprocessing\n",
    "from playsound import playsound\n",
    "\n",
    "p = multiprocessing.Process(target=playsound, args=(\"Hall-of-fame.mp3\",))\n",
    "p.start()\n",
    "input(\"press ENTER to stop playback\")\n",
    "p.terminate()"
   ]
  },
  {
   "cell_type": "code",
   "execution_count": null,
   "metadata": {},
   "outputs": [],
   "source": [
    "import multiprocessing\n",
    "from playsound import playsound\n",
    "def musicforsch(file, stopper_msg): \n",
    "    p = multiprocessing.Process(target=playsound, args=(file,))\n",
    "    p.start()\n",
    "    while True:\n",
    "        stop_music_text = input()\n",
    "        if stop_music_text == stopper_msg:\n",
    "            p.terminate()\n",
    "            break\n",
    "                "
   ]
  },
  {
   "cell_type": "code",
   "execution_count": null,
   "metadata": {},
   "outputs": [],
   "source": [
    "musicforsch(\"Ik-Vaari-Aa.mp3\", \"pdone\")"
   ]
  },
  {
   "cell_type": "code",
   "execution_count": 26,
   "metadata": {},
   "outputs": [],
   "source": [
    "import winsound\r\n",
    "winsound.PlaySound(r\"hof.wav\", winsound.SND_ASYNC)"
   ]
  },
  {
   "cell_type": "code",
   "execution_count": 21,
   "metadata": {},
   "outputs": [],
   "source": [
    "winsound.PlaySound(None, winsound.SND_PURGE)"
   ]
  },
  {
   "cell_type": "code",
   "execution_count": 27,
   "metadata": {},
   "outputs": [
    {
     "output_type": "stream",
     "name": "stdout",
     "text": [
      "schedule started at  2020-12-22 18:48:13.446610\n",
      "DON'T SKIP! Eyes exercise time......Type edone to stop the song\n",
      "DON'T SKIP! physical exercise time..Type pdone to stop the song\n",
      "DON'T SKIP! Water time .............Type wdone to stop the song\n",
      "DON'T SKIP! Eyes exercise time......Type edone to stop the song\n",
      "DON'T SKIP! physical exercise time..Type pdone to stop the song\n"
     ]
    },
    {
     "output_type": "error",
     "ename": "KeyboardInterrupt",
     "evalue": "Interrupted by user",
     "traceback": [
      "\u001b[1;31m---------------------------------------------------------------------------\u001b[0m",
      "\u001b[1;31mKeyboardInterrupt\u001b[0m                         Traceback (most recent call last)",
      "\u001b[1;32m<ipython-input-27-a91ecae19879>\u001b[0m in \u001b[0;36m<module>\u001b[1;34m\u001b[0m\n\u001b[0;32m     54\u001b[0m \u001b[1;33m\u001b[0m\u001b[0m\n\u001b[0;32m     55\u001b[0m \u001b[1;33m\u001b[0m\u001b[0m\n\u001b[1;32m---> 56\u001b[1;33m \u001b[0mscheduler_app\u001b[0m\u001b[1;33m(\u001b[0m\u001b[1;33m)\u001b[0m\u001b[1;33m\u001b[0m\u001b[1;33m\u001b[0m\u001b[0m\n\u001b[0m",
      "\u001b[1;32m<ipython-input-27-a91ecae19879>\u001b[0m in \u001b[0;36mscheduler_app\u001b[1;34m()\u001b[0m\n\u001b[0;32m     48\u001b[0m         \u001b[1;32mif\u001b[0m  \u001b[0mtime\u001b[0m\u001b[1;33m.\u001b[0m\u001b[0mtime\u001b[0m\u001b[1;33m(\u001b[0m\u001b[1;33m)\u001b[0m\u001b[1;33m-\u001b[0m\u001b[0minit_exercise\u001b[0m \u001b[1;33m>\u001b[0m \u001b[0mexercise\u001b[0m\u001b[1;33m:\u001b[0m\u001b[1;33m\u001b[0m\u001b[1;33m\u001b[0m\u001b[0m\n\u001b[0;32m     49\u001b[0m             \u001b[0mprint\u001b[0m\u001b[1;33m(\u001b[0m\u001b[1;34m\"DON'T SKIP! physical exercise time..Type pdone to stop the song\"\u001b[0m\u001b[1;33m)\u001b[0m\u001b[1;33m\u001b[0m\u001b[1;33m\u001b[0m\u001b[0m\n\u001b[1;32m---> 50\u001b[1;33m             \u001b[0mmusicforsch\u001b[0m\u001b[1;33m(\u001b[0m\u001b[1;34m\"Hall-of-fame.mp3\"\u001b[0m\u001b[1;33m,\u001b[0m \u001b[1;34m\"pdone\"\u001b[0m\u001b[1;33m)\u001b[0m\u001b[1;33m\u001b[0m\u001b[1;33m\u001b[0m\u001b[0m\n\u001b[0m\u001b[0;32m     51\u001b[0m             \u001b[0mlogfile\u001b[0m\u001b[1;33m(\u001b[0m\u001b[1;34m\"PhMovement at       :\"\u001b[0m\u001b[1;33m)\u001b[0m\u001b[1;33m\u001b[0m\u001b[1;33m\u001b[0m\u001b[0m\n\u001b[0;32m     52\u001b[0m             \u001b[0minit_exercise\u001b[0m \u001b[1;33m=\u001b[0m \u001b[0mtime\u001b[0m\u001b[1;33m.\u001b[0m\u001b[0mtime\u001b[0m\u001b[1;33m(\u001b[0m\u001b[1;33m)\u001b[0m\u001b[1;33m\u001b[0m\u001b[1;33m\u001b[0m\u001b[0m\n",
      "\u001b[1;32m<ipython-input-27-a91ecae19879>\u001b[0m in \u001b[0;36mmusicforsch\u001b[1;34m(file, stopper_msg)\u001b[0m\n\u001b[0;32m     14\u001b[0m     \u001b[0mp\u001b[0m\u001b[1;33m.\u001b[0m\u001b[0mstart\u001b[0m\u001b[1;33m(\u001b[0m\u001b[1;33m)\u001b[0m\u001b[1;33m\u001b[0m\u001b[1;33m\u001b[0m\u001b[0m\n\u001b[0;32m     15\u001b[0m     \u001b[1;32mwhile\u001b[0m \u001b[1;32mTrue\u001b[0m\u001b[1;33m:\u001b[0m\u001b[1;33m\u001b[0m\u001b[1;33m\u001b[0m\u001b[0m\n\u001b[1;32m---> 16\u001b[1;33m         \u001b[0mstop_music_text\u001b[0m \u001b[1;33m=\u001b[0m \u001b[0minput\u001b[0m\u001b[1;33m(\u001b[0m\u001b[1;33m)\u001b[0m\u001b[1;33m\u001b[0m\u001b[1;33m\u001b[0m\u001b[0m\n\u001b[0m\u001b[0;32m     17\u001b[0m         \u001b[1;32mif\u001b[0m \u001b[0mstop_music_text\u001b[0m \u001b[1;33m==\u001b[0m \u001b[0mstopper_msg\u001b[0m\u001b[1;33m:\u001b[0m\u001b[1;33m\u001b[0m\u001b[1;33m\u001b[0m\u001b[0m\n\u001b[0;32m     18\u001b[0m             \u001b[0mp\u001b[0m\u001b[1;33m.\u001b[0m\u001b[0mterminate\u001b[0m\u001b[1;33m(\u001b[0m\u001b[1;33m)\u001b[0m\u001b[1;33m\u001b[0m\u001b[1;33m\u001b[0m\u001b[0m\n",
      "\u001b[1;32m~\\AppData\\Local\\Packages\\PythonSoftwareFoundation.Python.3.9_qbz5n2kfra8p0\\LocalCache\\local-packages\\Python39\\site-packages\\ipykernel\\kernelbase.py\u001b[0m in \u001b[0;36mraw_input\u001b[1;34m(self, prompt)\u001b[0m\n\u001b[0;32m    855\u001b[0m                 \u001b[1;34m\"raw_input was called, but this frontend does not support input requests.\"\u001b[0m\u001b[1;33m\u001b[0m\u001b[1;33m\u001b[0m\u001b[0m\n\u001b[0;32m    856\u001b[0m             )\n\u001b[1;32m--> 857\u001b[1;33m         return self._input_request(str(prompt),\n\u001b[0m\u001b[0;32m    858\u001b[0m             \u001b[0mself\u001b[0m\u001b[1;33m.\u001b[0m\u001b[0m_parent_ident\u001b[0m\u001b[1;33m,\u001b[0m\u001b[1;33m\u001b[0m\u001b[1;33m\u001b[0m\u001b[0m\n\u001b[0;32m    859\u001b[0m             \u001b[0mself\u001b[0m\u001b[1;33m.\u001b[0m\u001b[0m_parent_header\u001b[0m\u001b[1;33m,\u001b[0m\u001b[1;33m\u001b[0m\u001b[1;33m\u001b[0m\u001b[0m\n",
      "\u001b[1;32m~\\AppData\\Local\\Packages\\PythonSoftwareFoundation.Python.3.9_qbz5n2kfra8p0\\LocalCache\\local-packages\\Python39\\site-packages\\ipykernel\\kernelbase.py\u001b[0m in \u001b[0;36m_input_request\u001b[1;34m(self, prompt, ident, parent, password)\u001b[0m\n\u001b[0;32m    899\u001b[0m             \u001b[1;32mexcept\u001b[0m \u001b[0mKeyboardInterrupt\u001b[0m\u001b[1;33m:\u001b[0m\u001b[1;33m\u001b[0m\u001b[1;33m\u001b[0m\u001b[0m\n\u001b[0;32m    900\u001b[0m                 \u001b[1;31m# re-raise KeyboardInterrupt, to truncate traceback\u001b[0m\u001b[1;33m\u001b[0m\u001b[1;33m\u001b[0m\u001b[1;33m\u001b[0m\u001b[0m\n\u001b[1;32m--> 901\u001b[1;33m                 \u001b[1;32mraise\u001b[0m \u001b[0mKeyboardInterrupt\u001b[0m\u001b[1;33m(\u001b[0m\u001b[1;34m\"Interrupted by user\"\u001b[0m\u001b[1;33m)\u001b[0m \u001b[1;32mfrom\u001b[0m \u001b[1;32mNone\u001b[0m\u001b[1;33m\u001b[0m\u001b[1;33m\u001b[0m\u001b[0m\n\u001b[0m\u001b[0;32m    902\u001b[0m             \u001b[1;32mexcept\u001b[0m \u001b[0mException\u001b[0m \u001b[1;32mas\u001b[0m \u001b[0me\u001b[0m\u001b[1;33m:\u001b[0m\u001b[1;33m\u001b[0m\u001b[1;33m\u001b[0m\u001b[0m\n\u001b[0;32m    903\u001b[0m                 \u001b[0mself\u001b[0m\u001b[1;33m.\u001b[0m\u001b[0mlog\u001b[0m\u001b[1;33m.\u001b[0m\u001b[0mwarning\u001b[0m\u001b[1;33m(\u001b[0m\u001b[1;34m\"Invalid Message:\"\u001b[0m\u001b[1;33m,\u001b[0m \u001b[0mexc_info\u001b[0m\u001b[1;33m=\u001b[0m\u001b[1;32mTrue\u001b[0m\u001b[1;33m)\u001b[0m\u001b[1;33m\u001b[0m\u001b[1;33m\u001b[0m\u001b[0m\n",
      "\u001b[1;31mKeyboardInterrupt\u001b[0m: Interrupted by user"
     ]
    }
   ],
   "source": [
    "import datetime\n",
    "import time\n",
    "from playsound import playsound\n",
    "import multiprocessing\n",
    "# Global declaration\n",
    "water =40 #40*60 #40 mins 40*60\n",
    "eyes = 25 #20*60 #20 mins 20*60\n",
    "exercise = 50 #45*60 # 45 mins 45*60\n",
    "# Functions\n",
    " \n",
    "\n",
    "def musicforsch(file, stopper_msg): \n",
    "    p = multiprocessing.Process(target=playsound, args=(file,))\n",
    "    p.start()\n",
    "    while True:\n",
    "        stop_music_text = input()\n",
    "        if stop_music_text == stopper_msg:\n",
    "            p.terminate()\n",
    "            break           \n",
    "            \n",
    "def logfile(msg):\n",
    "    with open(\"schedulerlog.txt\",\"a\") as f1:\n",
    "        mytime = time.strftime(\"%H\"\":\"\"%M\")\n",
    "        f1.write(f\"{msg}{mytime} : DATE & TIME {datetime.datetime.now()} \\n\")\n",
    "\n",
    "\n",
    "\n",
    "\n",
    "def scheduler_app():\n",
    "    print(\"schedule started at \",datetime.datetime.now())\n",
    "    init_water = time.time()\n",
    "    init_eyes = time.time()\n",
    "    init_exercise = time.time()\n",
    "    #         print(\"For WATER, I will remind you after every 1 hour\")\n",
    "    #         print(\"For EYES , I will remind you after every 30 minutes\")\n",
    "    #         print(\"For BODY MOVEMENT, I will remind you after every 45 minutes\")\n",
    "    while True:\n",
    "        if  time.time()-init_water > water: \n",
    "            print(\"DON'T SKIP! Water time .............Type wdone to stop the song\")\n",
    "            musicforsch(\"Besabriyaan.mp3\", \"wdone\")\n",
    "            logfile(\"Drank water at      :\")\n",
    "            init_water = time.time()\n",
    "        if  time.time()-init_eyes > eyes:\n",
    "            print(\"DON'T SKIP! Eyes exercise time......Type edone to stop the song\")\n",
    "            musicforsch(\"Ik-Vaari-Aa.mp3\", \"edone\")\n",
    "            logfile(\"Eyes exercise at    :\")\n",
    "            init_eyes = time.time()\n",
    "        if  time.time()-init_exercise > exercise:\n",
    "            print(\"DON'T SKIP! physical exercise time..Type pdone to stop the song\")\n",
    "            musicforsch(\"Hall-of-fame.mp3\", \"pdone\")\n",
    "            logfile(\"PhMovement at       :\") \n",
    "            init_exercise = time.time()\n",
    "\n",
    "\n",
    "\n",
    "scheduler_app()"
   ]
  },
  {
   "cell_type": "code",
   "execution_count": 1,
   "metadata": {},
   "outputs": [
    {
     "output_type": "error",
     "ename": "NameError",
     "evalue": "name 'p' is not defined",
     "traceback": [
      "\u001b[1;31m---------------------------------------------------------------------------\u001b[0m",
      "\u001b[1;31mNameError\u001b[0m                                 Traceback (most recent call last)",
      "\u001b[1;32m<ipython-input-1-993a28ca2e61>\u001b[0m in \u001b[0;36m<module>\u001b[1;34m\u001b[0m\n\u001b[1;32m----> 1\u001b[1;33m \u001b[0mp\u001b[0m\u001b[1;33m.\u001b[0m\u001b[0mterminate\u001b[0m\u001b[1;33m(\u001b[0m\u001b[1;33m)\u001b[0m\u001b[1;33m\u001b[0m\u001b[1;33m\u001b[0m\u001b[0m\n\u001b[0m",
      "\u001b[1;31mNameError\u001b[0m: name 'p' is not defined"
     ]
    }
   ],
   "source": [
    "p.terminate()"
   ]
  }
 ],
 "metadata": {
  "kernelspec": {
   "name": "python3",
   "display_name": "Python 3.9.1 64-bit",
   "metadata": {
    "interpreter": {
     "hash": "abb0f0fbc73ce6ea2a2157062d879b469dfc2cde47c5de725a1dbbdefdf09e2e"
    }
   }
  },
  "language_info": {
   "codemirror_mode": {
    "name": "ipython",
    "version": 3
   },
   "file_extension": ".py",
   "mimetype": "text/x-python",
   "name": "python",
   "nbconvert_exporter": "python",
   "pygments_lexer": "ipython3",
   "version": "3.9.1-final"
  }
 },
 "nbformat": 4,
 "nbformat_minor": 4
}