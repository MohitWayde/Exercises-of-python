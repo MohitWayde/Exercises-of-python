
import random

counter=10
user_won=0
bot_won=0
print("Do You want to play \"Snake Water Gun\"")
start_game = input("Press 1 to play, Else press 0 :")

for i in range(0,10):
    if start_game=='1': #if for start game
#         print("!!Instructions!!")
#         print("Type S for snake, W for water, G for gun ")

        user_input = input("Type S for snake, W for water, G for gun : ")
        if user_input.lower() == 's':
            print("YOU entered snake")
        elif user_input.lower() == 'w':
            print("YOU entered water")
        elif user_input.lower() == 'g':
            print("YOU entered gun")
        else:
            print("Read instruction and Enter proper input")
            continue
        choice_of_bot=random.choice(('s','w','g'))
        if choice_of_bot.lower() == 's':
            print("BOT entered snake")
        elif choice_of_bot.lower() == 'w':
            print("BOT entered water")
        elif choice_of_bot.lower() == 'g':
            print("BOT entered gun")
        else:
            print("Read instruction and Enter proper input")

        if user_input.lower()=='s' and choice_of_bot.lower()=='s':#comparison of user and bot
            print("*****!Tie game!*****")
            counter-=1
            print(f"you have {counter} chances left !")
        elif user_input.lower()=='s' and choice_of_bot.lower()=='w':
            print("*****!You won the game!*****")
            user_won += 1
            counter-=1
            
            print(f"you have {counter} chances left !")
        elif user_input.lower()=='s' and choice_of_bot.lower()=='g':
            print("*****!Bot won the game!*****")
            bot_won+=1
            counter-=1
            print(f"you have {counter} chances left !")
        elif user_input.lower()=='w' and choice_of_bot.lower()=='s':
            print("*****!Bot won the game!*****")
            bot_won+=1
            counter-=1
            print(f"you have {counter} chances left !")
        elif user_input.lower()=='w' and choice_of_bot.lower()=='w':
            print("*****!Tie game!*****")
            counter-=1
            print(f"you have {counter} chances left !")
        elif user_input.lower()=='w' and choice_of_bot.lower()=='g':
            print("*****!You won the game!*****")
            counter-=1
            user_won += 1
            print(f"you have {counter} chances left !")
        elif user_input.lower()=='g' and choice_of_bot.lower()=='s':
            print("*****!You won the game!*****")
            counter-=1
            user_won += 1
            print(f"you have {counter} chances left !")
        elif user_input.lower()=='g' and choice_of_bot.lower()=='w':
            print("*****!Bot won the game!*****")
            counter-=1
            bot_won+=1
            print(f"you have {counter} chances left !")
        elif user_input.lower()=='g' and choice_of_bot.lower()=='g':
            print("*****!Tie game!*****")
            counter-=1
            print(f"you have {counter} chances left !")
        else:
            print("You quit the game Or chances are over!")
            
    else: #else for start game went 0
        print("You quit the game Or chances are over!")
        

print(f"User won {user_won} times")
print(f"Bot won {bot_won} times")
if user_won > bot_won:
    print("User won")
elif user_won < bot_won:
    print("Bot won")
else:
    print("Tie game")