# 45*3=555 56+9=77,56/6=4
#faulty calculator
# Exercise 2
i1=input("enter an operator :")
i2=int(input("enter the number1 :"))
i3=int(input("enter the number2 :"))
if (i1=="*" and i2==42 and i3==3):
    print("555")
elif(i1=="+" and i2==56 and i3==9):
    print("77")
elif(i1=="/" and i2==56 and i3==6):
    print("4")
else:
    if i1=="+":
        print(i2+i3)
    if i1=="-":
        print(i2-i3)
    if i1=="*":
        print(i2*i3)
    if i1=="/":
        print(i2/i3)
    